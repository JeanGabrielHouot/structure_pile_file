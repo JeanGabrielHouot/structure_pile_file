{
 "cells": [
  {
   "cell_type": "markdown",
   "metadata": {},
   "source": [
    "#  <a id =\"table_of_content\"><font color=blue> Structure de données: Pile et File </font> </a>\n",
    "On présente la structure de données de Pile et de File.\n",
    "\n",
    "1. [La structure de pile](#pile)\n",
    "\n",
    "2. [La structure de file](#file)\n",
    "\n",
    "3. [Les applications](#applications)\n",
    "\n",
    "\n",
    "\n",
    "\n",
    "\n"
   ]
  },
  {
   "cell_type": "markdown",
   "metadata": {},
   "source": [
    "## <a id = \"pile\">  1. La structure de pile </a>\n",
    "La documentation provient du site GeekforGeeks (data structure: stack) [GeekforGeeks: stack](https://www.geeksforgeeks.org/stack-data-structure/)\n",
    "\n",
    "La pile est une structure de données linéaire qui obéit à des règles particulières en termes d'opérations. En anglais on résume ce processus par la méthode:\n",
    "\n",
    "<font color = \"blue\"> <b>LIFO</b>:</font> Last In First Out (dernier entré, premier sorti)\n",
    "\n",
    "Pour construire la pile, on utilise une structure de tableau. Ce dernier admet une taille maximale. On peut implémenter les méthodes suivantes\n",
    "\n",
    "<img src =\"Exemple_pile.png\" title = \"modélisation d'une pile\" width = 600px>\n",
    "\n",
    "\n",
    "1. <font color ='green'> <b>empiler</b> </font>: On ajoute un élément à la fin du tableau si ce dernier n'est pas rempli, sinon on renvoie un message de <b>\"pile pleine\"</b> ( <font color = 'red'><b> stack  overflow</b></font> ) \n",
    "\n",
    "\n",
    "2. <font color ='green'> <b>dépiler</b></font>: On retire un élément en fin de tableau si ce dernier n'est pas vide, sinon on renvoie un message de <b>\"pile vide\"</b> ( <font color = 'red'><b>stack  underflow</b></font> ) \n",
    "\n",
    "\n",
    "3. <font color ='green'> <b>estVide</b></font>: On teste si la pile est vide.\n",
    "\n",
    "\n",
    "4. <font color ='green'><b>dessus</b></font>: On renvoie la valeur en haut de pile (<font color = 'red'> <b>peek/top </b></font>).\n",
    "\n",
    "[Sommaire](#table_of_content)\n"
   ]
  },
  {
   "cell_type": "markdown",
   "metadata": {},
   "source": [
    "## <a id = \"file\">  2. La structure de file </a>\n",
    "La documentation provient du site GeekforGeeks (data structure: queue) [GeekforGeeks: queue](https://www.geeksforgeeks.org/queue-data-structure/)\n",
    "\n",
    "La file est aussi une structure de données linéaire. Elle reste assez proche d'une pile (notion de taille et de file vide) mais différe de par l'ajout et le retrait de ses éléments. En anglais on résume ce processus par la méthode:\n",
    "\n",
    "<font color = \"blue\"> <b>FIFO</b>:</font> First In First Out (dernier entré, premier sorti)\n",
    "\n",
    "Pour construire la file, on utilise une structure de tableau. Ce dernier admet une taille maximale. On peut implémenter les méthodes suivantes\n",
    "\n",
    "<img src =\"Exemple_file.png\" title = \"modélisation d'une file\" width = 600px>\n",
    "\n",
    "\n",
    "1. <font color ='green'> <b>ajouter</b> </font>: On ajoute un élément au début du tableau si ce dernier n'est pas plein, sinon on renvoie un message de \"file pleine\" ( <font color = 'red'><b>queue overflow</b></font> ) \n",
    "\n",
    "\n",
    "2. <font color ='green'> <b>retirer</b></font>: On retire un élément en fin de tableau si ce dernier n'est pas vide, sinon on renvoie un message de \"file vide\" ( <font color = 'red'><b>queue underflow</b></font> ) \n",
    "\n",
    "\n",
    "3. <font color ='green'> <b>estVide</b></font>: On teste si la file est vide.\n",
    "\n",
    "\n",
    "4. <font color ='green'><b>avant</b></font>: On renvoie la valeur en début de file (<font color = 'red'><b>front</b></font>).\n",
    "\n",
    "\n",
    "5. <font color ='green'><b>arrière</b></font>: On renvoie la valeur en file de file (<font color = 'red'><b>rear</b></font>).\n",
    "\n",
    "[Sommaire](#table_of_content)\n"
   ]
  },
  {
   "cell_type": "markdown",
   "metadata": {},
   "source": [
    "## <a id = \"applications\">  3. Les applications </a>\n",
    "\n",
    "On donne ici une liste d'exemples et d'applications des structures de pile et file.\n",
    "\n",
    "1. <font color = 'green'> <b>Vérification du parenthésage :</b></font> On construit une pile qui empile les parenthèses ouvrantes. On dépile la parenthèse si on rencontre une parenthèse fermante. On stop le processus si un couple de parenthèse ne se correspondent pas.\n",
    "\n",
    "\n",
    "2. <font color = 'green'> <b>Bouton reculer/avancer :</b></font> Une implémentation des boutons reculer/avancer dans les navigateurs repose sur l'implémentation de 2 piles. On peut aussi implémenter les boutons (Do/Undo) dans un éditeur de texte.\n",
    "\n",
    "\n",
    "3. <font color = 'green'> <b>Parcours d'un arbre :</b></font> On peut utiliser une méthode diviser pour régner(récursive). On retiendra 3 formats d'implémentations. \n",
    "\n",
    "<b>Ordre:</b> Gauche Racine Droit \n",
    "\n",
    "<b>Préordre:</b> Racine Gauche Droit \n",
    "\n",
    "<b>Postordre:</b> Gauche Droit Racine \n",
    "\n",
    "\n",
    "\n",
    "4. <font color = 'green'> <b>Aire sous un histogramme :</b></font> C'est un algorithme de recherche qui consiste à déterminer un rectangle d'aire maximale sous un histogramme. On l'implémente avec une méthode diviser pour régner. On parcourt l'histogramme en recherchant une valeur minimale (gauche/droite).\n",
    "\n",
    "\n",
    "5. <font color = 'green'> <b>Un plateau d'échec (Bactracking) :</b></font> Sur un échiquier on place des pièces de même type: Cavalier, Dame, Tour. Il faut remplir l'échiquier avec un maximum des piéces sans prises mutuelles. On utilise le principe du backtracking. On construit une pile des positions qui teste si la prise est possible ou pas. On explore les différents choix possibles (très long) et on retient les meilleurs cas.\n",
    "\n",
    "[Sommaire](#table_of_content)"
   ]
  },
  {
   "cell_type": "code",
   "execution_count": null,
   "metadata": {},
   "outputs": [],
   "source": []
  }
 ],
 "metadata": {
  "kernelspec": {
   "display_name": "Python 3",
   "language": "python",
   "name": "python3"
  },
  "language_info": {
   "codemirror_mode": {
    "name": "ipython",
    "version": 3
   },
   "file_extension": ".py",
   "mimetype": "text/x-python",
   "name": "python",
   "nbconvert_exporter": "python",
   "pygments_lexer": "ipython3",
   "version": "3.7.6"
  }
 },
 "nbformat": 4,
 "nbformat_minor": 4
}
